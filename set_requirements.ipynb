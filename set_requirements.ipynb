{
 "cells": [
  {
   "cell_type": "code",
   "execution_count": 23,
   "id": "fcdb2ec9-ad50-4e90-a0ea-e189b664c209",
   "metadata": {
    "tags": []
   },
   "outputs": [],
   "source": [
    "with open(\"requirements.txt\", \"w\") as f:\n",
    "    f.write('requests==2.28.1\\n')\n",
    "    f.write('pandas==1.5.3\\n')\n",
    "    f.write('pyxlsb==1.0.10\\n')\n",
    "    f.write('beautifulsoup4==4.11.1\\n')\n",
    "    f.write('OpenDartReader==0.2.1\\n')\n",
    "    f.write('dart_fss==0.4.2\\n')\n",
    "    f.write('streamlit==1.20.0\\n')\n",
    "    f.write('numpy==1.24.3\\n')\n",
    "    f.write('xlsxwriter==3.1.9\\n')\n",
    "f.close()"
   ]
  },
  {
   "cell_type": "code",
   "execution_count": 21,
   "id": "96931599-3f33-4306-bbf4-d5b6b23dc783",
   "metadata": {
    "tags": []
   },
   "outputs": [],
   "source": [
    "import xlsxwriter"
   ]
  },
  {
   "cell_type": "code",
   "execution_count": 22,
   "id": "9c7114c8-c1fe-4aff-bc3d-61aae7417f01",
   "metadata": {
    "tags": []
   },
   "outputs": [
    {
     "data": {
      "text/plain": [
       "'3.1.9'"
      ]
     },
     "execution_count": 22,
     "metadata": {},
     "output_type": "execute_result"
    }
   ],
   "source": [
    "xlsxwriter.__version__"
   ]
  },
  {
   "cell_type": "code",
   "execution_count": 16,
   "id": "f7b4b08b-4df2-4d4b-b2c6-438ee4deb17f",
   "metadata": {
    "tags": []
   },
   "outputs": [],
   "source": [
    "import io"
   ]
  },
  {
   "cell_type": "code",
   "execution_count": 15,
   "id": "21f2cc6f-c2af-4a91-8ec7-1c233d6b4e8d",
   "metadata": {
    "tags": []
   },
   "outputs": [
    {
     "ename": "AttributeError",
     "evalue": "module 'io' has no attribute '__version__'",
     "output_type": "error",
     "traceback": [
      "\u001b[1;31m---------------------------------------------------------------------------\u001b[0m",
      "\u001b[1;31mAttributeError\u001b[0m                            Traceback (most recent call last)",
      "Cell \u001b[1;32mIn[15], line 1\u001b[0m\n\u001b[1;32m----> 1\u001b[0m io\u001b[38;5;241m.\u001b[39m__version__\n",
      "File \u001b[1;32m<frozen io>:73\u001b[0m, in \u001b[0;36m__getattr__\u001b[1;34m(name)\u001b[0m\n",
      "\u001b[1;31mAttributeError\u001b[0m: module 'io' has no attribute '__version__'"
     ]
    }
   ],
   "source": [
    "io.__version__"
   ]
  },
  {
   "cell_type": "code",
   "execution_count": 13,
   "id": "b1c448bd-e425-426b-a7ee-e37cb07598ec",
   "metadata": {
    "tags": []
   },
   "outputs": [
    {
     "data": {
      "text/plain": [
       "'1.24.3'"
      ]
     },
     "execution_count": 13,
     "metadata": {},
     "output_type": "execute_result"
    }
   ],
   "source": [
    "import numpy\n",
    "\n",
    "numpy.__version__"
   ]
  }
 ],
 "metadata": {
  "kernelspec": {
   "display_name": "Python 3 (ipykernel)",
   "language": "python",
   "name": "python3"
  },
  "language_info": {
   "codemirror_mode": {
    "name": "ipython",
    "version": 3
   },
   "file_extension": ".py",
   "mimetype": "text/x-python",
   "name": "python",
   "nbconvert_exporter": "python",
   "pygments_lexer": "ipython3",
   "version": "3.11.5"
  }
 },
 "nbformat": 4,
 "nbformat_minor": 5
}
